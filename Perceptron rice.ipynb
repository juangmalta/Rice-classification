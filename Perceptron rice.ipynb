{
 "cells": [
  {
   "cell_type": "code",
   "execution_count": 1,
   "id": "d6f3d240",
   "metadata": {},
   "outputs": [
    {
     "name": "stdout",
     "output_type": "stream",
     "text": [
      "\n",
      "Accuracy on training data: 0.9821281275776739\n",
      "Accuracy on testing data: 0.9846026945284575\n",
      "\n",
      "Confusion matrix on training data:\n",
      "[[6392  176]\n",
      " [  84 7896]]\n",
      "\n",
      "Confusion matrix on testing data:\n",
      "[[1593   39]\n",
      " [  17 1988]]\n",
      "\n"
     ]
    }
   ],
   "source": [
    "#Perceptor for the rice Dataset\n",
    "\n",
    "#Libraries used:\n",
    "import pandas as pd\n",
    "from sklearn.linear_model import Perceptron\n",
    "from sklearn.model_selection import train_test_split\n",
    "from sklearn.metrics import confusion_matrix\n",
    "\n",
    "#Load the data\n",
    "data = pd.read_csv(\"./riceClassification.csv\",index_col='id')\n",
    "\n",
    "#Clean the data and remove the null values\n",
    "data=data.dropna()\n",
    "\n",
    "#Y is the target variable and X is the predictor variable\n",
    "y=data['Class']\n",
    "x=data.drop(['Class','Extent'],axis=1)\n",
    "\n",
    "#Split the data into training and testing data\n",
    "testsize=0.2\n",
    "x_train,x_test,y_train,y_test=train_test_split(x,y,test_size=testsize,random_state=42)\n",
    "clf=Perceptron(tol=1e-3,random_state=42).fit(x_train,y_train)\n",
    "y_pred_train=clf.predict(x_train)\n",
    "y_pred_test=clf.predict(x_test)\n",
    "\n",
    "#Score the model\n",
    "print()\n",
    "print(\"Accuracy on training data:\",clf.score(x_train,y_train))\n",
    "print(\"Accuracy on testing data:\",clf.score(x_test,y_test))\n",
    "print()\n",
    "\n",
    "#Confusion matrix on training data\n",
    "print(\"Confusion matrix on training data:\")\n",
    "print(confusion_matrix(y_train,y_pred_train))\n",
    "print()\n",
    "\n",
    "#Confusion matrix on testing data\n",
    "print(\"Confusion matrix on testing data:\")\n",
    "print(confusion_matrix(y_test,y_pred_test))\n",
    "print()\n"
   ]
  }
 ],
 "metadata": {
  "kernelspec": {
   "display_name": "Python 3 (ipykernel)",
   "language": "python",
   "name": "python3"
  },
  "language_info": {
   "codemirror_mode": {
    "name": "ipython",
    "version": 3
   },
   "file_extension": ".py",
   "mimetype": "text/x-python",
   "name": "python",
   "nbconvert_exporter": "python",
   "pygments_lexer": "ipython3",
   "version": "3.10.4"
  }
 },
 "nbformat": 4,
 "nbformat_minor": 5
}
